{
 "cells": [
  {
   "cell_type": "code",
   "execution_count": 2,
   "metadata": {},
   "outputs": [],
   "source": [
    "import pandas as pd"
   ]
  },
  {
   "cell_type": "markdown",
   "metadata": {},
   "source": [
    "## Izluščenje podatkov za prometne nesreče"
   ]
  },
  {
   "cell_type": "code",
   "execution_count": 3,
   "metadata": {},
   "outputs": [
    {
     "name": "stdout",
     "output_type": "stream",
     "text": [
      "Index(['Leto', 'NastanekDatumCas', 'Obcina', 'WGSLat', 'WGSLon',\n",
      "       'VrstaDogodka', 'SkupinaDogodka', 'Dogodek', 'CORSBesedilo',\n",
      "       'Opis poteka intervencije', 'Opis posledic', 'SkupinaObjektov',\n",
      "       'Objekt', 'KolicinaObjekt', 'VrstaPoškodbe', 'OkoljePoskodbaVrstaId',\n",
      "       'VrstniRed', 'Vozilo', 'KolicinaVozilo', 'VrstaPoskodbeVozilo',\n",
      "       'DelovniStroj', 'VrstaPoskodbeDelovniStroj', 'KolicinaDelovniStroj',\n",
      "       'Infrastruktura', 'VrstaPoskodbeInfrastruktura',\n",
      "       'KolicinaInfrastruktura', 'SkupinaNarava', 'Narava',\n",
      "       'VrstaPoskodbeNarava', 'KolicinaNarava', 'EnotaNarava', 'VrstaSmeti',\n",
      "       'Smeti', 'VrstaPoskodbeSmeti', 'EnotaSmeti', 'KolicinaSmeti', 'Voda',\n",
      "       'VrstaPoskodbeVoda', 'KolicinaVode', 'Zeleznica',\n",
      "       'VrstaPoskodbeZeleznica', 'KolicinaZeleznica', 'Zrak',\n",
      "       'VrstaPoskodbeZrak', 'KolicinaZrak', 'LjudjeMrtvi', 'LjudjePoskodovani',\n",
      "       'LjudjeResevani', 'PoginRib', 'PoginPtic'],\n",
      "      dtype='object')\n"
     ]
    }
   ],
   "source": [
    "file_path = 'PodatkiMM.xlsx'\n",
    "\n",
    "# Dostop do datoteke (header=1 pove, da je vrstica z imeni stolpcev v drugi vrstici, torej na indeksu 1)\n",
    "data = pd.read_excel(file_path, header=1)\n",
    "\n",
    "print(data.columns)\n"
   ]
  },
  {
   "cell_type": "code",
   "execution_count": 4,
   "metadata": {},
   "outputs": [],
   "source": [
    "\n",
    "# Obdrži samo vrstice, kjer je VrstaDogodka \"NESREČE V PROMETU\"\n",
    "filtered_data = data[data['VrstaDogodka'] == \"NESREČE V PROMETU\"]\n",
    "\n",
    "# Filtrirane podatke shrani v novo datoteko tipa .csv\n",
    "filtered_data.to_csv('PrometneNesreče.csv', index=False)\n",
    "#filtered_data.to_excel('PrometneNesreče.xlsx', index=False)"
   ]
  },
  {
   "cell_type": "markdown",
   "metadata": {},
   "source": [
    "### Število podatkov"
   ]
  },
  {
   "cell_type": "code",
   "execution_count": 5,
   "metadata": {},
   "outputs": [
    {
     "name": "stderr",
     "output_type": "stream",
     "text": [
      "C:\\Users\\Hana\\AppData\\Local\\Temp\\ipykernel_28556\\2262346324.py:2: DtypeWarning: Columns (31,32,33,34,42,43) have mixed types. Specify dtype option on import or set low_memory=False.\n",
      "  data = pd.read_csv(file_path)\n"
     ]
    },
    {
     "name": "stdout",
     "output_type": "stream",
     "text": [
      "Število podatkov: 121570\n"
     ]
    }
   ],
   "source": [
    "file_path = 'PrometneNesreče.csv'\n",
    "data = pd.read_csv(file_path)\n",
    "\n",
    "row_count = len(data)\n",
    "\n",
    "print(f\"Število podatkov: {row_count}\")\n"
   ]
  }
 ],
 "metadata": {
  "kernelspec": {
   "display_name": "Python 3",
   "language": "python",
   "name": "python3"
  },
  "language_info": {
   "codemirror_mode": {
    "name": "ipython",
    "version": 3
   },
   "file_extension": ".py",
   "mimetype": "text/x-python",
   "name": "python",
   "nbconvert_exporter": "python",
   "pygments_lexer": "ipython3",
   "version": "3.12.2"
  }
 },
 "nbformat": 4,
 "nbformat_minor": 2
}
